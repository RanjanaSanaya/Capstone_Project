{
 "cells": [
  {
   "cell_type": "markdown",
   "metadata": {},
   "source": [
    "THIS NOTEBOOK IS JUST FOR DATA EXPLORATION PURPOSES\n",
    "1) TO FIND IF WOMEN PARTICIPATION HAS SIGNIFICANTLY INCREASED WITH TIME, \n",
    "2) TO ANALYSE THE PERFORMANCE OF COUNTRIES,\n",
    "3) TO FIND OUT THE BEST ATHELETE BASED ON MEDALS ACHIEVED"
   ]
  },
  {
   "cell_type": "code",
   "execution_count": 1,
   "metadata": {},
   "outputs": [],
   "source": [
    "import pandas as pd\n",
    "import seaborn as sns\n",
    "import numpy as np\n",
    "import matplotlib.pyplot as plt\n",
    "%matplotlib inline"
   ]
  },
  {
   "cell_type": "code",
   "execution_count": 2,
   "metadata": {},
   "outputs": [
    {
     "name": "stdout",
     "output_type": "stream",
     "text": [
      "<class 'pandas.core.frame.DataFrame'>\n",
      "RangeIndex: 271116 entries, 0 to 271115\n",
      "Data columns (total 15 columns):\n",
      " #   Column  Non-Null Count   Dtype  \n",
      "---  ------  --------------   -----  \n",
      " 0   ID      271116 non-null  int64  \n",
      " 1   Name    271116 non-null  object \n",
      " 2   Sex     271116 non-null  object \n",
      " 3   Age     261642 non-null  float64\n",
      " 4   Height  210945 non-null  float64\n",
      " 5   Weight  208241 non-null  float64\n",
      " 6   Team    271116 non-null  object \n",
      " 7   NOC     271116 non-null  object \n",
      " 8   Games   271116 non-null  object \n",
      " 9   Year    271116 non-null  int64  \n",
      " 10  Season  271116 non-null  object \n",
      " 11  City    271116 non-null  object \n",
      " 12  Sport   271116 non-null  object \n",
      " 13  Event   271116 non-null  object \n",
      " 14  Medal   39783 non-null   object \n",
      "dtypes: float64(3), int64(2), object(10)\n",
      "memory usage: 31.0+ MB\n"
     ]
    }
   ],
   "source": [
    "events=pd.read_csv(\"/home/jovyan/athlete_events.csv\")\n",
    "events.info()\n",
    "## we do find variables like Age, Height, Weight have missing values "
   ]
  },
  {
   "cell_type": "code",
   "execution_count": 3,
   "metadata": {},
   "outputs": [
    {
     "name": "stdout",
     "output_type": "stream",
     "text": [
      "<class 'pandas.core.frame.DataFrame'>\n",
      "RangeIndex: 230 entries, 0 to 229\n",
      "Data columns (total 3 columns):\n",
      " #   Column  Non-Null Count  Dtype \n",
      "---  ------  --------------  ----- \n",
      " 0   NOC     230 non-null    object\n",
      " 1   region  227 non-null    object\n",
      " 2   notes   21 non-null     object\n",
      "dtypes: object(3)\n",
      "memory usage: 5.5+ KB\n"
     ]
    }
   ],
   "source": [
    "# lets read the other dataset available\n",
    "regions=pd.read_csv(\"/home/jovyan/noc_regions.csv\")\n",
    "regions.info()\n",
    "#presence of missing values is observed in variable Region"
   ]
  },
  {
   "cell_type": "code",
   "execution_count": 4,
   "metadata": {},
   "outputs": [
    {
     "data": {
      "text/plain": [
       "(271116, 17)"
      ]
     },
     "execution_count": 4,
     "metadata": {},
     "output_type": "execute_result"
    }
   ],
   "source": [
    "# merging both the dataset\n",
    "olympics = pd.merge(events, regions, on=\"NOC\", how=\"left\")\n",
    "olympics.shape"
   ]
  },
  {
   "cell_type": "code",
   "execution_count": 5,
   "metadata": {},
   "outputs": [
    {
     "name": "stdout",
     "output_type": "stream",
     "text": [
      "<class 'pandas.core.frame.DataFrame'>\n",
      "Int64Index: 271116 entries, 0 to 271115\n",
      "Data columns (total 17 columns):\n",
      " #   Column  Non-Null Count   Dtype  \n",
      "---  ------  --------------   -----  \n",
      " 0   ID      271116 non-null  int64  \n",
      " 1   Name    271116 non-null  object \n",
      " 2   Sex     271116 non-null  object \n",
      " 3   Age     261642 non-null  float64\n",
      " 4   Height  210945 non-null  float64\n",
      " 5   Weight  208241 non-null  float64\n",
      " 6   Team    271116 non-null  object \n",
      " 7   NOC     271116 non-null  object \n",
      " 8   Games   271116 non-null  object \n",
      " 9   Year    271116 non-null  int64  \n",
      " 10  Season  271116 non-null  object \n",
      " 11  City    271116 non-null  object \n",
      " 12  Sport   271116 non-null  object \n",
      " 13  Event   271116 non-null  object \n",
      " 14  Medal   39783 non-null   object \n",
      " 15  region  270746 non-null  object \n",
      " 16  notes   5039 non-null    object \n",
      "dtypes: float64(3), int64(2), object(12)\n",
      "memory usage: 37.2+ MB\n"
     ]
    }
   ],
   "source": [
    "olympics.info()"
   ]
  },
  {
   "cell_type": "markdown",
   "metadata": {},
   "source": [
    "Filtering to only contain rows that correspond to Summer Olympics and also excluding year 1906 Intercaleted Games from the data. IN this game medals were distributed but are no longer recognized by the International Olympic Committee."
   ]
  },
  {
   "cell_type": "code",
   "execution_count": 6,
   "metadata": {},
   "outputs": [],
   "source": [
    "Summer_olympics=olympics[(olympics.Season=='Summer') & (olympics.Year!=1906)]"
   ]
  },
  {
   "cell_type": "code",
   "execution_count": 7,
   "metadata": {},
   "outputs": [
    {
     "data": {
      "text/plain": [
       "(220819, 17)"
      ]
     },
     "execution_count": 7,
     "metadata": {},
     "output_type": "execute_result"
    }
   ],
   "source": [
    "Summer_olympics.shape"
   ]
  },
  {
   "cell_type": "code",
   "execution_count": 8,
   "metadata": {},
   "outputs": [
    {
     "data": {
      "text/html": [
       "<div>\n",
       "<style scoped>\n",
       "    .dataframe tbody tr th:only-of-type {\n",
       "        vertical-align: middle;\n",
       "    }\n",
       "\n",
       "    .dataframe tbody tr th {\n",
       "        vertical-align: top;\n",
       "    }\n",
       "\n",
       "    .dataframe thead th {\n",
       "        text-align: right;\n",
       "    }\n",
       "</style>\n",
       "<table border=\"1\" class=\"dataframe\">\n",
       "  <thead>\n",
       "    <tr style=\"text-align: right;\">\n",
       "      <th></th>\n",
       "      <th>Age</th>\n",
       "      <th>Height</th>\n",
       "      <th>Weight</th>\n",
       "      <th>Year</th>\n",
       "    </tr>\n",
       "  </thead>\n",
       "  <tbody>\n",
       "    <tr>\n",
       "      <th>count</th>\n",
       "      <td>212373.000000</td>\n",
       "      <td>170438.000000</td>\n",
       "      <td>168493.000000</td>\n",
       "      <td>220819.000000</td>\n",
       "    </tr>\n",
       "    <tr>\n",
       "      <th>mean</th>\n",
       "      <td>25.667288</td>\n",
       "      <td>175.511494</td>\n",
       "      <td>70.682699</td>\n",
       "      <td>1976.868947</td>\n",
       "    </tr>\n",
       "    <tr>\n",
       "      <th>std</th>\n",
       "      <td>6.692954</td>\n",
       "      <td>10.918801</td>\n",
       "      <td>14.805977</td>\n",
       "      <td>30.427978</td>\n",
       "    </tr>\n",
       "    <tr>\n",
       "      <th>min</th>\n",
       "      <td>10.000000</td>\n",
       "      <td>127.000000</td>\n",
       "      <td>25.000000</td>\n",
       "      <td>1896.000000</td>\n",
       "    </tr>\n",
       "    <tr>\n",
       "      <th>25%</th>\n",
       "      <td>21.000000</td>\n",
       "      <td>168.000000</td>\n",
       "      <td>60.000000</td>\n",
       "      <td>1960.000000</td>\n",
       "    </tr>\n",
       "    <tr>\n",
       "      <th>50%</th>\n",
       "      <td>24.000000</td>\n",
       "      <td>175.000000</td>\n",
       "      <td>70.000000</td>\n",
       "      <td>1984.000000</td>\n",
       "    </tr>\n",
       "    <tr>\n",
       "      <th>75%</th>\n",
       "      <td>28.000000</td>\n",
       "      <td>183.000000</td>\n",
       "      <td>79.000000</td>\n",
       "      <td>2000.000000</td>\n",
       "    </tr>\n",
       "    <tr>\n",
       "      <th>max</th>\n",
       "      <td>97.000000</td>\n",
       "      <td>226.000000</td>\n",
       "      <td>214.000000</td>\n",
       "      <td>2016.000000</td>\n",
       "    </tr>\n",
       "  </tbody>\n",
       "</table>\n",
       "</div>"
      ],
      "text/plain": [
       "                 Age         Height         Weight           Year\n",
       "count  212373.000000  170438.000000  168493.000000  220819.000000\n",
       "mean       25.667288     175.511494      70.682699    1976.868947\n",
       "std         6.692954      10.918801      14.805977      30.427978\n",
       "min        10.000000     127.000000      25.000000    1896.000000\n",
       "25%        21.000000     168.000000      60.000000    1960.000000\n",
       "50%        24.000000     175.000000      70.000000    1984.000000\n",
       "75%        28.000000     183.000000      79.000000    2000.000000\n",
       "max        97.000000     226.000000     214.000000    2016.000000"
      ]
     },
     "execution_count": 8,
     "metadata": {},
     "output_type": "execute_result"
    }
   ],
   "source": [
    "# Descriptive Statistics\n",
    "Summer_olympics.describe()\n",
    "Summer_olympics.iloc[:,1:].describe()"
   ]
  },
  {
   "cell_type": "markdown",
   "metadata": {},
   "source": [
    "Lets Split the data right away before any exploration is done"
   ]
  },
  {
   "cell_type": "code",
   "execution_count": 9,
   "metadata": {},
   "outputs": [],
   "source": [
    "## Data Split into Train and Test\n",
    "data_test = Summer_olympics[Summer_olympics.Year==2016]\n",
    "data_train = Summer_olympics[Summer_olympics.Year<2016]\n",
    "\n",
    "#dropping columns Id,Games and notes\n",
    "data_train = data_train.drop(data_train.columns[[0,8, 16]], axis=1)\n",
    "data_test = data_test.drop(data_test.columns[[0,8, 16]], axis=1)\n"
   ]
  },
  {
   "cell_type": "code",
   "execution_count": 10,
   "metadata": {},
   "outputs": [
    {
     "name": "stdout",
     "output_type": "stream",
     "text": [
      "<class 'pandas.core.frame.DataFrame'>\n",
      "Int64Index: 207131 entries, 0 to 271109\n",
      "Data columns (total 14 columns):\n",
      " #   Column  Non-Null Count   Dtype  \n",
      "---  ------  --------------   -----  \n",
      " 0   Name    207131 non-null  object \n",
      " 1   Sex     207131 non-null  object \n",
      " 2   Age     198685 non-null  float64\n",
      " 3   Height  156926 non-null  float64\n",
      " 4   Weight  155028 non-null  float64\n",
      " 5   Team    207131 non-null  object \n",
      " 6   NOC     207131 non-null  object \n",
      " 7   Year    207131 non-null  int64  \n",
      " 8   Season  207131 non-null  object \n",
      " 9   City    207131 non-null  object \n",
      " 10  Sport   207131 non-null  object \n",
      " 11  Event   207131 non-null  object \n",
      " 12  Medal   31607 non-null   object \n",
      " 13  region  207131 non-null  object \n",
      "dtypes: float64(3), int64(1), object(10)\n",
      "memory usage: 23.7+ MB\n"
     ]
    }
   ],
   "source": [
    "## filling the NaN values of column 'Region' by taking the values from 'Team' \n",
    "data_train[\"region\"].fillna(data_train[\"Team\"], inplace=True)\n",
    "data_train.info()"
   ]
  },
  {
   "cell_type": "code",
   "execution_count": 11,
   "metadata": {},
   "outputs": [
    {
     "name": "stdout",
     "output_type": "stream",
     "text": [
      "Age       1.800660\n",
      "Height    0.009947\n",
      "Weight    0.831643\n",
      "dtype: float64\n"
     ]
    },
    {
     "data": {
      "text/html": [
       "<div>\n",
       "<style scoped>\n",
       "    .dataframe tbody tr th:only-of-type {\n",
       "        vertical-align: middle;\n",
       "    }\n",
       "\n",
       "    .dataframe tbody tr th {\n",
       "        vertical-align: top;\n",
       "    }\n",
       "\n",
       "    .dataframe thead th {\n",
       "        text-align: right;\n",
       "    }\n",
       "</style>\n",
       "<table border=\"1\" class=\"dataframe\">\n",
       "  <thead>\n",
       "    <tr style=\"text-align: right;\">\n",
       "      <th></th>\n",
       "      <th>Age</th>\n",
       "      <th>Height</th>\n",
       "      <th>Weight</th>\n",
       "    </tr>\n",
       "  </thead>\n",
       "  <tbody>\n",
       "    <tr>\n",
       "      <th>count</th>\n",
       "      <td>198685.000000</td>\n",
       "      <td>156926.000000</td>\n",
       "      <td>155028.000000</td>\n",
       "    </tr>\n",
       "    <tr>\n",
       "      <th>mean</th>\n",
       "      <td>25.630043</td>\n",
       "      <td>175.466481</td>\n",
       "      <td>70.656127</td>\n",
       "    </tr>\n",
       "    <tr>\n",
       "      <th>std</th>\n",
       "      <td>6.762423</td>\n",
       "      <td>10.871594</td>\n",
       "      <td>14.724121</td>\n",
       "    </tr>\n",
       "    <tr>\n",
       "      <th>min</th>\n",
       "      <td>10.000000</td>\n",
       "      <td>127.000000</td>\n",
       "      <td>25.000000</td>\n",
       "    </tr>\n",
       "    <tr>\n",
       "      <th>25%</th>\n",
       "      <td>21.000000</td>\n",
       "      <td>168.000000</td>\n",
       "      <td>60.000000</td>\n",
       "    </tr>\n",
       "    <tr>\n",
       "      <th>50%</th>\n",
       "      <td>24.000000</td>\n",
       "      <td>175.000000</td>\n",
       "      <td>70.000000</td>\n",
       "    </tr>\n",
       "    <tr>\n",
       "      <th>75%</th>\n",
       "      <td>28.000000</td>\n",
       "      <td>183.000000</td>\n",
       "      <td>79.000000</td>\n",
       "    </tr>\n",
       "    <tr>\n",
       "      <th>max</th>\n",
       "      <td>97.000000</td>\n",
       "      <td>226.000000</td>\n",
       "      <td>214.000000</td>\n",
       "    </tr>\n",
       "  </tbody>\n",
       "</table>\n",
       "</div>"
      ],
      "text/plain": [
       "                 Age         Height         Weight\n",
       "count  198685.000000  156926.000000  155028.000000\n",
       "mean       25.630043     175.466481      70.656127\n",
       "std         6.762423      10.871594      14.724121\n",
       "min        10.000000     127.000000      25.000000\n",
       "25%        21.000000     168.000000      60.000000\n",
       "50%        24.000000     175.000000      70.000000\n",
       "75%        28.000000     183.000000      79.000000\n",
       "max        97.000000     226.000000     214.000000"
      ]
     },
     "execution_count": 11,
     "metadata": {},
     "output_type": "execute_result"
    }
   ],
   "source": [
    "## lets identify if there is any outlier before imputing the missing values for Age,Height and Weight.\n",
    "## Identifying the outliers with skewness if any\n",
    "print(data_train[['Age','Height','Weight']].skew())\n",
    "data_train[['Age','Height','Weight']].describe()"
   ]
  },
  {
   "cell_type": "code",
   "execution_count": 12,
   "metadata": {},
   "outputs": [
    {
     "data": {
      "image/png": "[encoded data removed]",
      "text/plain": [
       "<Figure size 432x288 with 1 Axes>"
      ]
     },
     "metadata": {
      "needs_background": "light"
     },
     "output_type": "display_data"
    }
   ],
   "source": [
    "#identifying the outlier using Box Plot.\n",
    "import seaborn as sns\n",
    "ax = sns.boxplot(data=data_train.iloc[:,1:6],orient=\"v\", palette=\"Set2\")\n",
    "#It can be observed in the box plot of Height that there are outliers. But they can be genuine outliers as the height of the basketball players can be extraordinarily high whereas the height of gymnasts can be very low.\n",
    "#It can be observed in the box plot of weight that there are outliers. But they can be genuine outliers as the weight of the weightlifters can be extraordinarily high whereas the weight of gymnasts can be very low.\n",
    "#Hence, even if the outliers are detected, they cannot be replaced with mean or deleted as it might then defeat the whole purpose of using data of Olympians. "
   ]
  },
  {
   "cell_type": "markdown",
   "metadata": {},
   "source": [
    "Imputing the missing values for Age,height and Weight using Median as the data is highly skewed. cite??"
   ]
  },
  {
   "cell_type": "code",
   "execution_count": 13,
   "metadata": {},
   "outputs": [],
   "source": [
    "#imputing the missing values for continuous variables\n",
    "#looking at the box plot, we understnad that the variables are skewed, so will be using median to impute the missing values.\n",
    "import numpy as np\n",
    "imp_col = ['Age','Height','Weight']\n",
    "for col in imp_col:\n",
    "    data_train[col] = data_train[col].fillna((data_train[col].median()))"
   ]
  },
  {
   "cell_type": "code",
   "execution_count": 14,
   "metadata": {},
   "outputs": [
    {
     "name": "stdout",
     "output_type": "stream",
     "text": [
      "Name           0\n",
      "Sex            0\n",
      "Age            0\n",
      "Height         0\n",
      "Weight         0\n",
      "Team           0\n",
      "NOC            0\n",
      "Year           0\n",
      "Season         0\n",
      "City           0\n",
      "Sport          0\n",
      "Event          0\n",
      "Medal     175524\n",
      "region         0\n",
      "dtype: int64\n"
     ]
    }
   ],
   "source": [
    "print(data_train.isnull().sum())"
   ]
  },
  {
   "cell_type": "markdown",
   "metadata": {},
   "source": [
    "EXPLORATORY ANALYSIS BEGINS"
   ]
  },
  {
   "cell_type": "code",
   "execution_count": 15,
   "metadata": {},
   "outputs": [
    {
     "data": {
      "text/plain": [
       "<matplotlib.axes._subplots.AxesSubplot at 0x7f7d33f41790>"
      ]
     },
     "execution_count": 15,
     "metadata": {},
     "output_type": "execute_result"
    },
    {
     "data": {
      "image/png": "[encoded data removed]",
      "text/plain": [
       "<Figure size 432x288 with 1 Axes>"
      ]
     },
     "metadata": {
      "needs_background": "light"
     },
     "output_type": "display_data"
    }
   ],
   "source": [
    "##which country is at Top in medal Counts\n",
    "medal_count=data_train.groupby('region').count()\n",
    "df = pd.DataFrame(medal_count, columns=['Medal']) \n",
    "Sort = df.sort_values(['Medal'], ascending=False)\n",
    "top_count10 =Sort.head(10)\n",
    "top_count10.plot(kind='bar')\n",
    "\n",
    "#Result = US is at top"
   ]
  },
  {
   "cell_type": "markdown",
   "metadata": {},
   "source": [
    "OBSERVATION: US HOLDS THE MOST NO OF MEDALS FOLLOWED BY RUSSIA AND THEN GERMANY SINCE THE BEGINNING"
   ]
  },
  {
   "cell_type": "code",
   "execution_count": 16,
   "metadata": {},
   "outputs": [
    {
     "data": {
      "text/plain": [
       "<matplotlib.axes._subplots.AxesSubplot at 0x7f7d33e5f410>"
      ]
     },
     "execution_count": 16,
     "metadata": {},
     "output_type": "execute_result"
    },
    {
     "data": {
      "image/png": "[encoded data removed]",
      "text/plain": [
       "<Figure size 432x288 with 1 Axes>"
      ]
     },
     "metadata": {
      "needs_background": "light"
     },
     "output_type": "display_data"
    }
   ],
   "source": [
    "## participation by country\n",
    "participants_count=data_train.groupby('NOC').count()\n",
    "df1 = pd.DataFrame(participants_count, columns=['Name']) \n",
    "Sort_p = df1.sort_values(['Name'], ascending=False)\n",
    "top_count =Sort_p.head(10)\n",
    "top_count\n",
    "top_count.plot(kind='bar')\n"
   ]
  },
  {
   "cell_type": "markdown",
   "metadata": {},
   "source": [
    "OBSERVATION: more participation = more medal win. USA has maximum participation with max no of medal wins."
   ]
  },
  {
   "cell_type": "code",
   "execution_count": 17,
   "metadata": {},
   "outputs": [
    {
     "data": {
      "text/html": [
       "<div>\n",
       "<style scoped>\n",
       "    .dataframe tbody tr th:only-of-type {\n",
       "        vertical-align: middle;\n",
       "    }\n",
       "\n",
       "    .dataframe tbody tr th {\n",
       "        vertical-align: top;\n",
       "    }\n",
       "\n",
       "    .dataframe thead th {\n",
       "        text-align: right;\n",
       "    }\n",
       "</style>\n",
       "<table border=\"1\" class=\"dataframe\">\n",
       "  <thead>\n",
       "    <tr style=\"text-align: right;\">\n",
       "      <th>Medal</th>\n",
       "      <th>Year</th>\n",
       "      <th>Name</th>\n",
       "      <th>Bronze</th>\n",
       "      <th>Gold</th>\n",
       "      <th>Silver</th>\n",
       "      <th>Total</th>\n",
       "    </tr>\n",
       "  </thead>\n",
       "  <tbody>\n",
       "    <tr>\n",
       "      <th>44</th>\n",
       "      <td>1896</td>\n",
       "      <td>Hermann Otto Ludwig Weingrtner</td>\n",
       "      <td>1</td>\n",
       "      <td>3</td>\n",
       "      <td>2</td>\n",
       "      <td>6</td>\n",
       "    </tr>\n",
       "    <tr>\n",
       "      <th>523</th>\n",
       "      <td>1900</td>\n",
       "      <td>Walter Beardsley Tewksbury</td>\n",
       "      <td>1</td>\n",
       "      <td>2</td>\n",
       "      <td>2</td>\n",
       "      <td>5</td>\n",
       "    </tr>\n",
       "    <tr>\n",
       "      <th>705</th>\n",
       "      <td>1904</td>\n",
       "      <td>George Louis Eyser</td>\n",
       "      <td>1</td>\n",
       "      <td>3</td>\n",
       "      <td>2</td>\n",
       "      <td>6</td>\n",
       "    </tr>\n",
       "    <tr>\n",
       "      <th>1496</th>\n",
       "      <td>1908</td>\n",
       "      <td>Oscar Gomer Swahn</td>\n",
       "      <td>1</td>\n",
       "      <td>2</td>\n",
       "      <td>0</td>\n",
       "      <td>3</td>\n",
       "    </tr>\n",
       "    <tr>\n",
       "      <th>1723</th>\n",
       "      <td>1912</td>\n",
       "      <td>Gustaf Vilhelm Carlberg</td>\n",
       "      <td>0</td>\n",
       "      <td>3</td>\n",
       "      <td>2</td>\n",
       "      <td>5</td>\n",
       "    </tr>\n",
       "    <tr>\n",
       "      <th>3553</th>\n",
       "      <td>1920</td>\n",
       "      <td>Willis Augustus Lee, Jr.</td>\n",
       "      <td>1</td>\n",
       "      <td>5</td>\n",
       "      <td>1</td>\n",
       "      <td>7</td>\n",
       "    </tr>\n",
       "    <tr>\n",
       "      <th>4250</th>\n",
       "      <td>1924</td>\n",
       "      <td>Viljo Eino \"Ville\" Ritola (Koukkari-)</td>\n",
       "      <td>0</td>\n",
       "      <td>4</td>\n",
       "      <td>2</td>\n",
       "      <td>6</td>\n",
       "    </tr>\n",
       "    <tr>\n",
       "      <th>4328</th>\n",
       "      <td>1928</td>\n",
       "      <td>Georg \"Georges\" Miez</td>\n",
       "      <td>0</td>\n",
       "      <td>3</td>\n",
       "      <td>1</td>\n",
       "      <td>4</td>\n",
       "    </tr>\n",
       "    <tr>\n",
       "      <th>5275</th>\n",
       "      <td>1932</td>\n",
       "      <td>Istvn Pelle</td>\n",
       "      <td>0</td>\n",
       "      <td>2</td>\n",
       "      <td>2</td>\n",
       "      <td>4</td>\n",
       "    </tr>\n",
       "    <tr>\n",
       "      <th>6098</th>\n",
       "      <td>1936</td>\n",
       "      <td>Konrad Frey</td>\n",
       "      <td>2</td>\n",
       "      <td>3</td>\n",
       "      <td>1</td>\n",
       "      <td>6</td>\n",
       "    </tr>\n",
       "    <tr>\n",
       "      <th>7077</th>\n",
       "      <td>1948</td>\n",
       "      <td>Veikko Aarne Aleks Huhtanen</td>\n",
       "      <td>1</td>\n",
       "      <td>3</td>\n",
       "      <td>1</td>\n",
       "      <td>5</td>\n",
       "    </tr>\n",
       "    <tr>\n",
       "      <th>7672</th>\n",
       "      <td>1952</td>\n",
       "      <td>Mariya Kindrativna Horokhovska</td>\n",
       "      <td>0</td>\n",
       "      <td>2</td>\n",
       "      <td>5</td>\n",
       "      <td>7</td>\n",
       "    </tr>\n",
       "    <tr>\n",
       "      <th>8398</th>\n",
       "      <td>1956</td>\n",
       "      <td>Larysa Semenivna Latynina (Diriy-)</td>\n",
       "      <td>1</td>\n",
       "      <td>4</td>\n",
       "      <td>1</td>\n",
       "      <td>6</td>\n",
       "    </tr>\n",
       "    <tr>\n",
       "      <th>8754</th>\n",
       "      <td>1960</td>\n",
       "      <td>Borys Anfiyanovych Shakhlin</td>\n",
       "      <td>1</td>\n",
       "      <td>4</td>\n",
       "      <td>2</td>\n",
       "      <td>7</td>\n",
       "    </tr>\n",
       "    <tr>\n",
       "      <th>9529</th>\n",
       "      <td>1964</td>\n",
       "      <td>Larysa Semenivna Latynina (Diriy-)</td>\n",
       "      <td>2</td>\n",
       "      <td>2</td>\n",
       "      <td>2</td>\n",
       "      <td>6</td>\n",
       "    </tr>\n",
       "    <tr>\n",
       "      <th>11056</th>\n",
       "      <td>1968</td>\n",
       "      <td>Mikhail Yakovlevich Voronin</td>\n",
       "      <td>1</td>\n",
       "      <td>2</td>\n",
       "      <td>4</td>\n",
       "      <td>7</td>\n",
       "    </tr>\n",
       "    <tr>\n",
       "      <th>11482</th>\n",
       "      <td>1972</td>\n",
       "      <td>Mark Andrew Spitz</td>\n",
       "      <td>0</td>\n",
       "      <td>7</td>\n",
       "      <td>0</td>\n",
       "      <td>7</td>\n",
       "    </tr>\n",
       "    <tr>\n",
       "      <th>12551</th>\n",
       "      <td>1976</td>\n",
       "      <td>Nikolay Yefimovich Andrianov</td>\n",
       "      <td>1</td>\n",
       "      <td>4</td>\n",
       "      <td>2</td>\n",
       "      <td>7</td>\n",
       "    </tr>\n",
       "    <tr>\n",
       "      <th>13636</th>\n",
       "      <td>1980</td>\n",
       "      <td>Aleksandr Nikolayevich Dityatin</td>\n",
       "      <td>1</td>\n",
       "      <td>3</td>\n",
       "      <td>4</td>\n",
       "      <td>8</td>\n",
       "    </tr>\n",
       "    <tr>\n",
       "      <th>15603</th>\n",
       "      <td>1984</td>\n",
       "      <td>Li Ning</td>\n",
       "      <td>1</td>\n",
       "      <td>3</td>\n",
       "      <td>2</td>\n",
       "      <td>6</td>\n",
       "    </tr>\n",
       "    <tr>\n",
       "      <th>16330</th>\n",
       "      <td>1988</td>\n",
       "      <td>Matthew Nicholas \"Matt\" Biondi</td>\n",
       "      <td>1</td>\n",
       "      <td>5</td>\n",
       "      <td>1</td>\n",
       "      <td>7</td>\n",
       "    </tr>\n",
       "    <tr>\n",
       "      <th>19015</th>\n",
       "      <td>1992</td>\n",
       "      <td>Vitaly Venediktovich Shcherbo</td>\n",
       "      <td>0</td>\n",
       "      <td>6</td>\n",
       "      <td>0</td>\n",
       "      <td>6</td>\n",
       "    </tr>\n",
       "    <tr>\n",
       "      <th>19511</th>\n",
       "      <td>1996</td>\n",
       "      <td>Aleksey Yuryevich Nemov</td>\n",
       "      <td>3</td>\n",
       "      <td>2</td>\n",
       "      <td>1</td>\n",
       "      <td>6</td>\n",
       "    </tr>\n",
       "    <tr>\n",
       "      <th>20950</th>\n",
       "      <td>2000</td>\n",
       "      <td>Aleksey Yuryevich Nemov</td>\n",
       "      <td>3</td>\n",
       "      <td>2</td>\n",
       "      <td>1</td>\n",
       "      <td>6</td>\n",
       "    </tr>\n",
       "    <tr>\n",
       "      <th>23938</th>\n",
       "      <td>2004</td>\n",
       "      <td>Michael Fred Phelps, II</td>\n",
       "      <td>2</td>\n",
       "      <td>6</td>\n",
       "      <td>0</td>\n",
       "      <td>8</td>\n",
       "    </tr>\n",
       "    <tr>\n",
       "      <th>24843</th>\n",
       "      <td>2008</td>\n",
       "      <td>Michael Fred Phelps, II</td>\n",
       "      <td>0</td>\n",
       "      <td>8</td>\n",
       "      <td>0</td>\n",
       "      <td>8</td>\n",
       "    </tr>\n",
       "    <tr>\n",
       "      <th>26466</th>\n",
       "      <td>2012</td>\n",
       "      <td>Michael Fred Phelps, II</td>\n",
       "      <td>0</td>\n",
       "      <td>4</td>\n",
       "      <td>2</td>\n",
       "      <td>6</td>\n",
       "    </tr>\n",
       "  </tbody>\n",
       "</table>\n",
       "</div>"
      ],
      "text/plain": [
       "Medal  Year                                   Name  Bronze  Gold  Silver  \\\n",
       "44     1896         Hermann Otto Ludwig Weingrtner       1     3       2   \n",
       "523    1900             Walter Beardsley Tewksbury       1     2       2   \n",
       "705    1904                     George Louis Eyser       1     3       2   \n",
       "1496   1908                      Oscar Gomer Swahn       1     2       0   \n",
       "1723   1912                Gustaf Vilhelm Carlberg       0     3       2   \n",
       "3553   1920               Willis Augustus Lee, Jr.       1     5       1   \n",
       "4250   1924  Viljo Eino \"Ville\" Ritola (Koukkari-)       0     4       2   \n",
       "4328   1928                   Georg \"Georges\" Miez       0     3       1   \n",
       "5275   1932                            Istvn Pelle       0     2       2   \n",
       "6098   1936                            Konrad Frey       2     3       1   \n",
       "7077   1948            Veikko Aarne Aleks Huhtanen       1     3       1   \n",
       "7672   1952         Mariya Kindrativna Horokhovska       0     2       5   \n",
       "8398   1956     Larysa Semenivna Latynina (Diriy-)       1     4       1   \n",
       "8754   1960            Borys Anfiyanovych Shakhlin       1     4       2   \n",
       "9529   1964     Larysa Semenivna Latynina (Diriy-)       2     2       2   \n",
       "11056  1968            Mikhail Yakovlevich Voronin       1     2       4   \n",
       "11482  1972                      Mark Andrew Spitz       0     7       0   \n",
       "12551  1976           Nikolay Yefimovich Andrianov       1     4       2   \n",
       "13636  1980        Aleksandr Nikolayevich Dityatin       1     3       4   \n",
       "15603  1984                                Li Ning       1     3       2   \n",
       "16330  1988         Matthew Nicholas \"Matt\" Biondi       1     5       1   \n",
       "19015  1992          Vitaly Venediktovich Shcherbo       0     6       0   \n",
       "19511  1996                Aleksey Yuryevich Nemov       3     2       1   \n",
       "20950  2000                Aleksey Yuryevich Nemov       3     2       1   \n",
       "23938  2004                Michael Fred Phelps, II       2     6       0   \n",
       "24843  2008                Michael Fred Phelps, II       0     8       0   \n",
       "26466  2012                Michael Fred Phelps, II       0     4       2   \n",
       "\n",
       "Medal  Total  \n",
       "44         6  \n",
       "523        5  \n",
       "705        6  \n",
       "1496       3  \n",
       "1723       5  \n",
       "3553       7  \n",
       "4250       6  \n",
       "4328       4  \n",
       "5275       4  \n",
       "6098       6  \n",
       "7077       5  \n",
       "7672       7  \n",
       "8398       6  \n",
       "8754       7  \n",
       "9529       6  \n",
       "11056      7  \n",
       "11482      7  \n",
       "12551      7  \n",
       "13636      8  \n",
       "15603      6  \n",
       "16330      7  \n",
       "19015      6  \n",
       "19511      6  \n",
       "20950      6  \n",
       "23938      8  \n",
       "24843      8  \n",
       "26466      6  "
      ]
     },
     "execution_count": 17,
     "metadata": {},
     "output_type": "execute_result"
    }
   ],
   "source": [
    "#top 10 players with Most number of Medals throughout\n",
    "medal = data_train.groupby(['Year','Name','Medal']).size().unstack('Medal',fill_value=0)\n",
    "medal['Total'] = medal['Gold'] +medal['Silver'] +medal['Bronze'] \n",
    "medal.reset_index(inplace=True)\n",
    "topplayers=[group.sort_values('Total',ascending=False)[:1] for year,group in medal.groupby('Year')]\n",
    "topplayers\n",
    "top=pd.DataFrame()\n",
    "for i in topplayers:\n",
    "    top = top.append(i)\n",
    "top\n"
   ]
  },
  {
   "cell_type": "markdown",
   "metadata": {},
   "source": [
    "OBSERVATION: Michael Fred Phelps, II has been the most successful athlete since 2004."
   ]
  },
  {
   "cell_type": "markdown",
   "metadata": {},
   "source": [
    "NOW LETS SEE THE GROWTH OF FEMALE PARTICIPATION OVER THE YEARS"
   ]
  },
  {
   "cell_type": "code",
   "execution_count": 18,
   "metadata": {},
   "outputs": [
    {
     "data": {
      "text/plain": [
       "Year  Sex\n",
       "1896  M       380\n",
       "1900  M      1903\n",
       "      F        33\n",
       "1904  M      1285\n",
       "      F        16\n",
       "1908  M      3054\n",
       "      F        47\n",
       "1912  M      3953\n",
       "      F        87\n",
       "1920  M      4158\n",
       "      F       134\n",
       "1924  M      4989\n",
       "      F       244\n",
       "1928  M      4588\n",
       "      F       404\n",
       "1932  M      2622\n",
       "      F       347\n",
       "1936  M      6038\n",
       "      F       468\n",
       "1948  M      5777\n",
       "      F       628\n",
       "1952  M      6773\n",
       "      F      1497\n",
       "1956  M      4234\n",
       "      F       893\n",
       "1960  M      6684\n",
       "      F      1435\n",
       "1964  M      6354\n",
       "      F      1348\n",
       "1968  M      6811\n",
       "      F      1777\n",
       "1972  M      8111\n",
       "      F      2193\n",
       "1976  M      6469\n",
       "      F      2172\n",
       "1980  M      5435\n",
       "      F      1756\n",
       "1984  M      7007\n",
       "      F      2447\n",
       "1988  M      8494\n",
       "      F      3543\n",
       "1992  M      8853\n",
       "      F      4124\n",
       "1996  M      8772\n",
       "      F      5008\n",
       "2000  M      8390\n",
       "      F      5431\n",
       "2004  M      7897\n",
       "      F      5546\n",
       "2008  M      7786\n",
       "      F      5816\n",
       "2012  M      7105\n",
       "      F      5815\n",
       "Name: Sex, dtype: int64"
      ]
     },
     "execution_count": 18,
     "metadata": {},
     "output_type": "execute_result"
    }
   ],
   "source": [
    "#female participation over the years\n",
    "groupedGender = data_train.groupby('Year')['Sex'].value_counts()\n",
    "groupedGender"
   ]
  },
  {
   "cell_type": "code",
   "execution_count": 19,
   "metadata": {},
   "outputs": [
    {
     "data": {
      "image/png": "[encoded data removed]",
      "text/plain": [
       "<Figure size 1440x720 with 1 Axes>"
      ]
     },
     "metadata": {
      "needs_background": "light"
     },
     "output_type": "display_data"
    }
   ],
   "source": [
    "#Lets Plot it\n",
    "groupedGender = data_train.groupby('Year')['Sex'].value_counts()\n",
    "plt.subplots(figsize=(20, 10))\n",
    "groupedGender.loc[:,'M'].plot(marker = 'o',label = 'Male')\n",
    "groupedGender.loc[:,'F'].plot(marker = 'o',label = 'Female')\n",
    "plt.ylabel='Gender Count'\n",
    "plt.legend()\n",
    "plt.title('Increasing Women participation since 1896', fontsize=\"18\")\n",
    "plt.show()"
   ]
  },
  {
   "cell_type": "markdown",
   "metadata": {},
   "source": [
    "OBSERVATION: Female participations has been increasing gradually and closing the gap with men. It has increased from 0 participation in 1896 to 5815 in 2012 compared to 7105 male participation. "
   ]
  },
  {
   "cell_type": "code",
   "execution_count": 20,
   "metadata": {},
   "outputs": [
    {
     "data": {
      "text/html": [
       "<div>\n",
       "<style scoped>\n",
       "    .dataframe tbody tr th:only-of-type {\n",
       "        vertical-align: middle;\n",
       "    }\n",
       "\n",
       "    .dataframe tbody tr th {\n",
       "        vertical-align: top;\n",
       "    }\n",
       "\n",
       "    .dataframe thead th {\n",
       "        text-align: right;\n",
       "    }\n",
       "</style>\n",
       "<table border=\"1\" class=\"dataframe\">\n",
       "  <thead>\n",
       "    <tr style=\"text-align: right;\">\n",
       "      <th>Medal</th>\n",
       "      <th>Year</th>\n",
       "      <th>Bronze</th>\n",
       "      <th>Gold</th>\n",
       "      <th>Silver</th>\n",
       "      <th>Total</th>\n",
       "    </tr>\n",
       "  </thead>\n",
       "  <tbody>\n",
       "    <tr>\n",
       "      <th>0</th>\n",
       "      <td>1900</td>\n",
       "      <td>5</td>\n",
       "      <td>4</td>\n",
       "      <td>4</td>\n",
       "      <td>13</td>\n",
       "    </tr>\n",
       "    <tr>\n",
       "      <th>1</th>\n",
       "      <td>1904</td>\n",
       "      <td>2</td>\n",
       "      <td>6</td>\n",
       "      <td>2</td>\n",
       "      <td>10</td>\n",
       "    </tr>\n",
       "    <tr>\n",
       "      <th>2</th>\n",
       "      <td>1908</td>\n",
       "      <td>5</td>\n",
       "      <td>6</td>\n",
       "      <td>5</td>\n",
       "      <td>16</td>\n",
       "    </tr>\n",
       "    <tr>\n",
       "      <th>3</th>\n",
       "      <td>1912</td>\n",
       "      <td>10</td>\n",
       "      <td>10</td>\n",
       "      <td>10</td>\n",
       "      <td>30</td>\n",
       "    </tr>\n",
       "    <tr>\n",
       "      <th>4</th>\n",
       "      <td>1920</td>\n",
       "      <td>14</td>\n",
       "      <td>15</td>\n",
       "      <td>15</td>\n",
       "      <td>44</td>\n",
       "    </tr>\n",
       "    <tr>\n",
       "      <th>5</th>\n",
       "      <td>1924</td>\n",
       "      <td>15</td>\n",
       "      <td>15</td>\n",
       "      <td>16</td>\n",
       "      <td>46</td>\n",
       "    </tr>\n",
       "    <tr>\n",
       "      <th>6</th>\n",
       "      <td>1928</td>\n",
       "      <td>33</td>\n",
       "      <td>32</td>\n",
       "      <td>32</td>\n",
       "      <td>97</td>\n",
       "    </tr>\n",
       "    <tr>\n",
       "      <th>7</th>\n",
       "      <td>1932</td>\n",
       "      <td>20</td>\n",
       "      <td>20</td>\n",
       "      <td>22</td>\n",
       "      <td>62</td>\n",
       "    </tr>\n",
       "    <tr>\n",
       "      <th>8</th>\n",
       "      <td>1936</td>\n",
       "      <td>30</td>\n",
       "      <td>29</td>\n",
       "      <td>29</td>\n",
       "      <td>88</td>\n",
       "    </tr>\n",
       "    <tr>\n",
       "      <th>9</th>\n",
       "      <td>1948</td>\n",
       "      <td>35</td>\n",
       "      <td>33</td>\n",
       "      <td>33</td>\n",
       "      <td>101</td>\n",
       "    </tr>\n",
       "    <tr>\n",
       "      <th>10</th>\n",
       "      <td>1952</td>\n",
       "      <td>46</td>\n",
       "      <td>47</td>\n",
       "      <td>47</td>\n",
       "      <td>140</td>\n",
       "    </tr>\n",
       "    <tr>\n",
       "      <th>11</th>\n",
       "      <td>1956</td>\n",
       "      <td>49</td>\n",
       "      <td>45</td>\n",
       "      <td>50</td>\n",
       "      <td>144</td>\n",
       "    </tr>\n",
       "    <tr>\n",
       "      <th>12</th>\n",
       "      <td>1960</td>\n",
       "      <td>47</td>\n",
       "      <td>56</td>\n",
       "      <td>53</td>\n",
       "      <td>156</td>\n",
       "    </tr>\n",
       "    <tr>\n",
       "      <th>13</th>\n",
       "      <td>1964</td>\n",
       "      <td>60</td>\n",
       "      <td>71</td>\n",
       "      <td>69</td>\n",
       "      <td>200</td>\n",
       "    </tr>\n",
       "    <tr>\n",
       "      <th>14</th>\n",
       "      <td>1968</td>\n",
       "      <td>70</td>\n",
       "      <td>75</td>\n",
       "      <td>70</td>\n",
       "      <td>215</td>\n",
       "    </tr>\n",
       "    <tr>\n",
       "      <th>15</th>\n",
       "      <td>1972</td>\n",
       "      <td>79</td>\n",
       "      <td>87</td>\n",
       "      <td>84</td>\n",
       "      <td>250</td>\n",
       "    </tr>\n",
       "    <tr>\n",
       "      <th>16</th>\n",
       "      <td>1976</td>\n",
       "      <td>128</td>\n",
       "      <td>131</td>\n",
       "      <td>130</td>\n",
       "      <td>389</td>\n",
       "    </tr>\n",
       "    <tr>\n",
       "      <th>17</th>\n",
       "      <td>1980</td>\n",
       "      <td>144</td>\n",
       "      <td>145</td>\n",
       "      <td>145</td>\n",
       "      <td>434</td>\n",
       "    </tr>\n",
       "    <tr>\n",
       "      <th>18</th>\n",
       "      <td>1984</td>\n",
       "      <td>164</td>\n",
       "      <td>170</td>\n",
       "      <td>160</td>\n",
       "      <td>494</td>\n",
       "    </tr>\n",
       "    <tr>\n",
       "      <th>19</th>\n",
       "      <td>1988</td>\n",
       "      <td>191</td>\n",
       "      <td>178</td>\n",
       "      <td>185</td>\n",
       "      <td>554</td>\n",
       "    </tr>\n",
       "    <tr>\n",
       "      <th>20</th>\n",
       "      <td>1992</td>\n",
       "      <td>205</td>\n",
       "      <td>197</td>\n",
       "      <td>190</td>\n",
       "      <td>592</td>\n",
       "    </tr>\n",
       "    <tr>\n",
       "      <th>21</th>\n",
       "      <td>1996</td>\n",
       "      <td>256</td>\n",
       "      <td>255</td>\n",
       "      <td>253</td>\n",
       "      <td>764</td>\n",
       "    </tr>\n",
       "    <tr>\n",
       "      <th>22</th>\n",
       "      <td>2000</td>\n",
       "      <td>299</td>\n",
       "      <td>288</td>\n",
       "      <td>293</td>\n",
       "      <td>880</td>\n",
       "    </tr>\n",
       "    <tr>\n",
       "      <th>23</th>\n",
       "      <td>2004</td>\n",
       "      <td>301</td>\n",
       "      <td>298</td>\n",
       "      <td>299</td>\n",
       "      <td>898</td>\n",
       "    </tr>\n",
       "    <tr>\n",
       "      <th>24</th>\n",
       "      <td>2008</td>\n",
       "      <td>319</td>\n",
       "      <td>306</td>\n",
       "      <td>307</td>\n",
       "      <td>932</td>\n",
       "    </tr>\n",
       "    <tr>\n",
       "      <th>25</th>\n",
       "      <td>2012</td>\n",
       "      <td>314</td>\n",
       "      <td>301</td>\n",
       "      <td>303</td>\n",
       "      <td>918</td>\n",
       "    </tr>\n",
       "  </tbody>\n",
       "</table>\n",
       "</div>"
      ],
      "text/plain": [
       "Medal  Year  Bronze  Gold  Silver  Total\n",
       "0      1900       5     4       4     13\n",
       "1      1904       2     6       2     10\n",
       "2      1908       5     6       5     16\n",
       "3      1912      10    10      10     30\n",
       "4      1920      14    15      15     44\n",
       "5      1924      15    15      16     46\n",
       "6      1928      33    32      32     97\n",
       "7      1932      20    20      22     62\n",
       "8      1936      30    29      29     88\n",
       "9      1948      35    33      33    101\n",
       "10     1952      46    47      47    140\n",
       "11     1956      49    45      50    144\n",
       "12     1960      47    56      53    156\n",
       "13     1964      60    71      69    200\n",
       "14     1968      70    75      70    215\n",
       "15     1972      79    87      84    250\n",
       "16     1976     128   131     130    389\n",
       "17     1980     144   145     145    434\n",
       "18     1984     164   170     160    494\n",
       "19     1988     191   178     185    554\n",
       "20     1992     205   197     190    592\n",
       "21     1996     256   255     253    764\n",
       "22     2000     299   288     293    880\n",
       "23     2004     301   298     299    898\n",
       "24     2008     319   306     307    932\n",
       "25     2012     314   301     303    918"
      ]
     },
     "execution_count": 20,
     "metadata": {},
     "output_type": "execute_result"
    }
   ],
   "source": [
    "#Women medal win over the years\n",
    "WomenInOlympics= data_train[(data_train.Sex == 'F')]\n",
    "medal_F = WomenInOlympics.groupby(['Year','Medal']).size().unstack('Medal',fill_value=0)\n",
    "medal_F['Total'] = medal_F['Gold'] +medal_F['Silver'] +medal_F['Bronze']\n",
    "medal_F.reset_index(inplace=True)\n",
    "medal_F"
   ]
  },
  {
   "cell_type": "code",
   "execution_count": 21,
   "metadata": {},
   "outputs": [
    {
     "data": {
      "text/plain": [
       "<seaborn.axisgrid.FacetGrid at 0x7f7d33ca4e10>"
      ]
     },
     "execution_count": 21,
     "metadata": {},
     "output_type": "execute_result"
    },
    {
     "data": {
      "text/plain": [
       "<Figure size 1440x720 with 0 Axes>"
      ]
     },
     "metadata": {},
     "output_type": "display_data"
    },
    {
     "data": {
      "image/png": "[encoded data removed]",
      "text/plain": [
       "<Figure size 360x360 with 1 Axes>"
      ]
     },
     "metadata": {},
     "output_type": "display_data"
    }
   ],
   "source": [
    "## lets plot it\n",
    "sns.set(style=\"darkgrid\")\n",
    "plt.figure(figsize=(20, 10))\n",
    "sns.catplot(x=\"Year\",y=\"Total\", data=medal_F, kind='point')"
   ]
  },
  {
   "cell_type": "markdown",
   "metadata": {},
   "source": [
    "OBSERVATION: Women contribution to medal win has been increasing throughly."
   ]
  },
  {
   "cell_type": "code",
   "execution_count": 22,
   "metadata": {},
   "outputs": [
    {
     "name": "stdout",
     "output_type": "stream",
     "text": [
      "      Year  NOC Sex  counts\n",
      "4433  2012  USA   F     268\n",
      "4179  2012  GBR   F     257\n",
      "4358  2012  RUS   F     226\n",
      "4119  2012  CHN   F     208\n",
      "4067  2012  AUS   F     184\n",
      "...    ...  ...  ..     ...\n",
      "2     1896  DEN   M       3\n",
      "9     1896  SUI   M       3\n",
      "0     1896  AUS   M       1\n",
      "8     1896  ITA   M       1\n",
      "10    1896  SWE   M       1\n",
      "\n",
      "[4451 rows x 4 columns]       Year  NOC Sex  counts\n",
      "4180  2012  GBR   M     273\n",
      "4434  2012  USA   M     261\n",
      "4068  2012  AUS   M     221\n",
      "4188  2012  GER   M     212\n",
      "4359  2012  RUS   M     203\n",
      "...    ...  ...  ..     ...\n",
      "2     1896  DEN   M       3\n",
      "9     1896  SUI   M       3\n",
      "0     1896  AUS   M       1\n",
      "8     1896  ITA   M       1\n",
      "10    1896  SWE   M       1\n",
      "\n",
      "[4451 rows x 4 columns]\n"
     ]
    }
   ],
   "source": [
    "#Number of women relative to men across countries\n",
    "\n",
    "newdf = data_train[['NOC','Year','Name','Sex']]\n",
    "newdf = newdf.drop_duplicates()\n",
    "\n",
    "malefemale_count=newdf.groupby(['Year','NOC','Sex'])[\"Sex\"].count().reset_index(name=\"counts\")\n",
    "\n",
    "Sort_F = malefemale_count.sort_values(['Year','Sex','counts'], ascending=(False,True,False))\n",
    "\n",
    "Sort_M = malefemale_count.sort_values(['Year','Sex','counts'], ascending=(False,False,False))\n",
    "print(Sort_F,Sort_M)"
   ]
  },
  {
   "cell_type": "markdown",
   "metadata": {},
   "source": [
    "OBSERVATION: In 2012 U.S. team sent more women than men i.e 268 Female vs 261 Men"
   ]
  },
  {
   "cell_type": "code",
   "execution_count": 23,
   "metadata": {},
   "outputs": [
    {
     "data": {
      "text/plain": [
       "Athletics                35646\n",
       "Gymnastics               25690\n",
       "Swimming                 21549\n",
       "Shooting                 10573\n",
       "Fencing                  10228\n",
       "Cycling                  10054\n",
       "Rowing                    9845\n",
       "Wrestling                 6769\n",
       "Football                  6227\n",
       "Sailing                   6206\n",
       "Equestrianism             5989\n",
       "Boxing                    5764\n",
       "Canoeing                  5730\n",
       "Hockey                    5027\n",
       "Basketball                4255\n",
       "Weightlifting             3660\n",
       "Water Polo                3588\n",
       "Art Competitions          3578\n",
       "Judo                      3412\n",
       "Handball                  3312\n",
       "Volleyball                3121\n",
       "Diving                    2640\n",
       "Tennis                    2528\n",
       "Archery                   2134\n",
       "Table Tennis              1719\n",
       "Modern Pentathlon         1605\n",
       "Badminton                 1280\n",
       "Baseball                   894\n",
       "Synchronized Swimming      791\n",
       "Rhythmic Gymnastics        562\n",
       "Taekwondo                  480\n",
       "Softball                   478\n",
       "Beach Volleyball           468\n",
       "Triathlon                  419\n",
       "Rugby                      162\n",
       "Tug-Of-War                 138\n",
       "Golf                       127\n",
       "Trampolining               120\n",
       "Polo                        95\n",
       "Lacrosse                    60\n",
       "Ice Hockey                  60\n",
       "Figure Skating              54\n",
       "Cricket                     24\n",
       "Croquet                     19\n",
       "Motorboating                17\n",
       "Racquets                    12\n",
       "Jeu De Paume                11\n",
       "Alpinism                     4\n",
       "Roque                        4\n",
       "Basque Pelota                2\n",
       "Aeronautics                  1\n",
       "Name: Sport, dtype: int64"
      ]
     },
     "execution_count": 23,
     "metadata": {},
     "output_type": "execute_result"
    }
   ],
   "source": [
    "##Different Sports played\n",
    "data_train[\"Sport\"].value_counts()"
   ]
  },
  {
   "cell_type": "code",
   "execution_count": 24,
   "metadata": {},
   "outputs": [
    {
     "data": {
      "text/plain": [
       "Gold      10637\n",
       "Bronze    10561\n",
       "Silver    10409\n",
       "Name: Medal, dtype: int64"
      ]
     },
     "execution_count": 24,
     "metadata": {},
     "output_type": "execute_result"
    }
   ],
   "source": [
    "#Medal Distribution\n",
    "data_train.Medal.value_counts()"
   ]
  },
  {
   "cell_type": "markdown",
   "metadata": {},
   "source": [
    "Country with most Gold Medal"
   ]
  },
  {
   "cell_type": "code",
   "execution_count": 25,
   "metadata": {},
   "outputs": [],
   "source": [
    "goldMedals = data_train[(data_train.Medal == 'Gold')]"
   ]
  },
  {
   "cell_type": "code",
   "execution_count": 26,
   "metadata": {},
   "outputs": [
    {
     "data": {
      "text/html": [
       "<div>\n",
       "<style scoped>\n",
       "    .dataframe tbody tr th:only-of-type {\n",
       "        vertical-align: middle;\n",
       "    }\n",
       "\n",
       "    .dataframe tbody tr th {\n",
       "        vertical-align: top;\n",
       "    }\n",
       "\n",
       "    .dataframe thead th {\n",
       "        text-align: right;\n",
       "    }\n",
       "</style>\n",
       "<table border=\"1\" class=\"dataframe\">\n",
       "  <thead>\n",
       "    <tr style=\"text-align: right;\">\n",
       "      <th></th>\n",
       "      <th>index</th>\n",
       "      <th>Medal</th>\n",
       "    </tr>\n",
       "  </thead>\n",
       "  <tbody>\n",
       "    <tr>\n",
       "      <th>0</th>\n",
       "      <td>USA</td>\n",
       "      <td>2321</td>\n",
       "    </tr>\n",
       "    <tr>\n",
       "      <th>1</th>\n",
       "      <td>Russia</td>\n",
       "      <td>1168</td>\n",
       "    </tr>\n",
       "    <tr>\n",
       "      <th>2</th>\n",
       "      <td>Germany</td>\n",
       "      <td>1012</td>\n",
       "    </tr>\n",
       "    <tr>\n",
       "      <th>3</th>\n",
       "      <td>UK</td>\n",
       "      <td>563</td>\n",
       "    </tr>\n",
       "    <tr>\n",
       "      <th>4</th>\n",
       "      <td>Italy</td>\n",
       "      <td>489</td>\n",
       "    </tr>\n",
       "    <tr>\n",
       "      <th>5</th>\n",
       "      <td>France</td>\n",
       "      <td>425</td>\n",
       "    </tr>\n",
       "    <tr>\n",
       "      <th>6</th>\n",
       "      <td>Hungary</td>\n",
       "      <td>415</td>\n",
       "    </tr>\n",
       "    <tr>\n",
       "      <th>7</th>\n",
       "      <td>Sweden</td>\n",
       "      <td>350</td>\n",
       "    </tr>\n",
       "    <tr>\n",
       "      <th>8</th>\n",
       "      <td>Australia</td>\n",
       "      <td>339</td>\n",
       "    </tr>\n",
       "    <tr>\n",
       "      <th>9</th>\n",
       "      <td>China</td>\n",
       "      <td>289</td>\n",
       "    </tr>\n",
       "  </tbody>\n",
       "</table>\n",
       "</div>"
      ],
      "text/plain": [
       "       index  Medal\n",
       "0        USA   2321\n",
       "1     Russia   1168\n",
       "2    Germany   1012\n",
       "3         UK    563\n",
       "4      Italy    489\n",
       "5     France    425\n",
       "6    Hungary    415\n",
       "7     Sweden    350\n",
       "8  Australia    339\n",
       "9      China    289"
      ]
     },
     "execution_count": 26,
     "metadata": {},
     "output_type": "execute_result"
    }
   ],
   "source": [
    "goldMedals.region.value_counts().reset_index(name='Medal').head(10)"
   ]
  },
  {
   "cell_type": "markdown",
   "metadata": {},
   "source": [
    "US has most of the Gold Medals with them."
   ]
  },
  {
   "cell_type": "markdown",
   "metadata": {},
   "source": [
    "WE COULD CONCLUDE THAT USA IS LEADING IN ALL THE AREAS\n",
    "1)No. of Total Medals\n",
    "2)Top Athelete\n",
    "3)Maximum Women Participation"
   ]
  }
 ],
 "metadata": {
  "kernelspec": {
   "display_name": "Python 3",
   "language": "python",
   "name": "python3"
  },
  "language_info": {
   "codemirror_mode": {
    "name": "ipython",
    "version": 3
   },
   "file_extension": ".py",
   "mimetype": "text/x-python",
   "name": "python",
   "nbconvert_exporter": "python",
   "pygments_lexer": "ipython3",
   "version": "3.7.6"
  }
 },
 "nbformat": 4,
 "nbformat_minor": 4
}
